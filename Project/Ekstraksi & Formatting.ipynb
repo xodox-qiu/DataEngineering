{
 "cells": [
  {
   "cell_type": "code",
   "execution_count": null,
   "metadata": {},
   "outputs": [
    {
     "data": {
      "text/html": [
       "\n",
       "            <style>\n",
       "                .geemap-dark {\n",
       "                    --jp-widgets-color: white;\n",
       "                    --jp-widgets-label-color: white;\n",
       "                    --jp-ui-font-color1: white;\n",
       "                    --jp-layout-color2: #454545;\n",
       "                    background-color: #383838;\n",
       "                }\n",
       "\n",
       "                .geemap-dark .jupyter-button {\n",
       "                    --jp-layout-color3: #383838;\n",
       "                }\n",
       "\n",
       "                .geemap-colab {\n",
       "                    background-color: var(--colab-primary-surface-color, white);\n",
       "                }\n",
       "\n",
       "                .geemap-colab .jupyter-button {\n",
       "                    --jp-layout-color3: var(--colab-primary-surface-color, white);\n",
       "                }\n",
       "            </style>\n",
       "            "
      ],
      "text/plain": [
       "<IPython.core.display.HTML object>"
      ]
     },
     "metadata": {},
     "output_type": "display_data"
    },
    {
     "name": "stdout",
     "output_type": "stream",
     "text": [
      "Memulai scraping data dari BPS...\n",
      "Data BPS berhasil disimpan rapi ke produksi_perikanan_budidaya.csv\n",
      "Mengambil data dari Google Earth Engine...\n",
      "Earth Engine berhasil diinisialisasi.\n",
      "Data suhu berhasil disimpan: suhu_perbandingan.csv\n",
      "Pipeline selesai dijalankan.\n"
     ]
    }
   ],
   "source": [
    "import csv\n",
    "from selenium import webdriver\n",
    "from selenium.webdriver.firefox.service import Service\n",
    "from selenium.webdriver.firefox.options import Options\n",
    "from selenium.webdriver.common.by import By\n",
    "from selenium.webdriver.support.ui import WebDriverWait\n",
    "from selenium.webdriver.support import expected_conditions as EC\n",
    "import ee\n",
    "import geemap\n",
    "\n",
    "def scrape_bps_data():\n",
    "    print(\"Memulai scraping data dari BPS...\")\n",
    "\n",
    "    geckodriver_path = \"C:/Users/User/Downloads/geckodriver.exe\"\n",
    "    firefox_binary_path = \"C:/Program Files/Mozilla Firefox/firefox.exe\"\n",
    "\n",
    "    options = Options()\n",
    "    options.binary_location = firefox_binary_path\n",
    "\n",
    "    service = Service(geckodriver_path)\n",
    "    driver = webdriver.Firefox(service=service, options=options)\n",
    "\n",
    "    try:\n",
    "        url = \"https://www.bps.go.id/id/statistics-table/2/MTUxMyMy/produksi-perikanan-budidaya-menurut-komoditas-utama.html\"\n",
    "        driver.get(url)\n",
    "\n",
    "        WebDriverWait(driver, 20).until(EC.presence_of_element_located((By.TAG_NAME, \"table\")))\n",
    "\n",
    "        table = driver.find_element(By.TAG_NAME, \"table\")\n",
    "        rows = table.find_elements(By.TAG_NAME, \"tr\")\n",
    "\n",
    "        header_rows = rows[:4]\n",
    "\n",
    "        headers = []\n",
    "        for row in header_rows:\n",
    "            cells = row.find_elements(By.XPATH, \".//th|.//td\")\n",
    "            header = []\n",
    "            for cell in cells:\n",
    "                text = cell.text.strip()\n",
    "                colspan = int(cell.get_attribute(\"colspan\") or \"1\")\n",
    "                header.extend([text] + [\"\"] * (colspan - 1))\n",
    "            headers.append(header)\n",
    "\n",
    "        table_data = []\n",
    "        for row in rows[4:]:\n",
    "            cells = row.find_elements(By.TAG_NAME, \"td\")\n",
    "            row_data = []\n",
    "            for cell in cells:\n",
    "                text = cell.text.strip()\n",
    "                colspan = int(cell.get_attribute(\"colspan\") or \"1\")\n",
    "                row_data.extend([text] + [\"\"] * (colspan - 1))\n",
    "            table_data.append(row_data)\n",
    "\n",
    "        max_len = max(len(r) for r in headers + table_data)\n",
    "        headers = [r + [\"\"] * (max_len - len(r)) for r in headers]\n",
    "        table_data = [r + [\"\"] * (max_len - len(r)) for r in table_data]\n",
    "\n",
    "        output_path = \"produksi_perikanan_budidaya.csv\"\n",
    "        with open(output_path, mode=\"w\", newline=\"\", encoding=\"utf-8\") as f:\n",
    "            writer = csv.writer(f)\n",
    "            for header in headers:\n",
    "                writer.writerow(header)\n",
    "            for row in table_data:\n",
    "                writer.writerow(row)\n",
    "\n",
    "        print(f\"Data BPS berhasil disimpan rapi ke {output_path}\")\n",
    "        return output_path\n",
    "\n",
    "    finally:\n",
    "        driver.quit()\n",
    "\n",
    "def initialize_earth_engine():\n",
    "    try:\n",
    "        ee.Initialize()\n",
    "        print(\"Earth Engine berhasil diinisialisasi.\")\n",
    "    except Exception:\n",
    "        print(\"Earth Engine belum diinisialisasi, mencoba autentikasi...\")\n",
    "        try:\n",
    "            ee.Authenticate()\n",
    "            ee.Initialize()\n",
    "            print(\"Earth Engine berhasil diautentikasi dan diinisialisasi.\")\n",
    "        except Exception as e:\n",
    "            print(f\"Gagal mengautentikasi Earth Engine: {e}\")\n",
    "\n",
    "def extract_gee_data():\n",
    "    print(\"Mengambil data dari Google Earth Engine...\")\n",
    "    initialize_earth_engine()\n",
    "\n",
    "    def get_temperature_stats(start_date, end_date):\n",
    "        dataset = ee.ImageCollection('NOAA/CFSR').filter(ee.Filter.date(start_date, end_date))\n",
    "        temperature_surface = dataset.select('Temperature_surface')\n",
    "        indonesia = ee.FeatureCollection(\"FAO/GAUL/2015/level1\").filter(\n",
    "            ee.Filter.eq(\"ADM0_NAME\", \"Indonesia\")\n",
    "        )\n",
    "        temp_stats = temperature_surface.mean().reduceRegions(\n",
    "            collection=indonesia,\n",
    "            reducer=ee.Reducer.mean(),\n",
    "            scale=1000\n",
    "        )\n",
    "        df = geemap.ee_to_df(temp_stats)\n",
    "        df = df[['ADM1_NAME', 'mean']].rename(columns={'ADM1_NAME': 'Provinsi', 'mean': f'Suhu {start_date[:4]}'})\n",
    "        return df\n",
    "\n",
    "    df_2023 = get_temperature_stats('2023-04-01', '2023-04-07')\n",
    "\n",
    "    df_2023['Suhu rata-rata'] = df_2023[[f'Suhu 2023']].mean(axis=1)\n",
    "\n",
    "    df_2023['Provinsi'] = df_2023['Provinsi'].str.upper()\n",
    "\n",
    "    output_csv = \"suhu_perbandingan.csv\"\n",
    "    df_2023.to_csv(output_csv, index=False, encoding='utf-8')\n",
    "    print(f\"Data suhu berhasil disimpan: {output_csv}\")\n",
    "\n",
    "    return df_2023\n",
    "\n",
    "if __name__ == \"__main__\":  \n",
    "    df_bps = scrape_bps_data()\n",
    "    df_gee = extract_gee_data()\n",
    "    print(\"Pipeline selesai dijalankan.\")\n"
   ]
  },
  {
   "cell_type": "code",
   "execution_count": 21,
   "metadata": {},
   "outputs": [
    {
     "data": {
      "text/html": [
       "\n",
       "            <style>\n",
       "                .geemap-dark {\n",
       "                    --jp-widgets-color: white;\n",
       "                    --jp-widgets-label-color: white;\n",
       "                    --jp-ui-font-color1: white;\n",
       "                    --jp-layout-color2: #454545;\n",
       "                    background-color: #383838;\n",
       "                }\n",
       "\n",
       "                .geemap-dark .jupyter-button {\n",
       "                    --jp-layout-color3: #383838;\n",
       "                }\n",
       "\n",
       "                .geemap-colab {\n",
       "                    background-color: var(--colab-primary-surface-color, white);\n",
       "                }\n",
       "\n",
       "                .geemap-colab .jupyter-button {\n",
       "                    --jp-layout-color3: var(--colab-primary-surface-color, white);\n",
       "                }\n",
       "            </style>\n",
       "            "
      ],
      "text/plain": [
       "<IPython.core.display.HTML object>"
      ]
     },
     "metadata": {},
     "output_type": "display_data"
    }
   ],
   "source": [
    "import pandas as pd\n",
    "\n",
    "df = pd.read_csv('produksi_perikanan_budidaya.csv', header=None)\n",
    "df = df.drop(index=0)\n",
    "df.columns = df.iloc[0]\n",
    "df = df.drop(index=1)\n",
    "provinces = df.iloc[:, 0]\n",
    "df = df.iloc[:, 1:]\n",
    "\n",
    "fish_species = ['Gurame', 'Patin', 'Lele', 'Nila', 'Ikan Mas', 'Kakap', 'Bandeng', 'Rumput Laut', 'Kerapu', 'Udang', 'Ikan lainnya']\n",
    "columns_2020 = []\n",
    "columns_2023 = []\n",
    "for species in fish_species:\n",
    "    columns_2023.append(f\"{species} (2023)\")\n",
    "new_columns = []\n",
    "for i in range(len(fish_species)):\n",
    "    new_columns.append(columns_2023[i])\n",
    "\n",
    "assert len(new_columns) == len(df.columns)\n",
    "\n",
    "df.columns = new_columns\n",
    "\n",
    "df.insert(0, 'Provinsi', provinces)\n",
    "\n",
    "df.to_csv('produksi_perikanan_budidaya_try.csv', index=False)\n"
   ]
  },
  {
   "cell_type": "code",
   "execution_count": 23,
   "metadata": {},
   "outputs": [
    {
     "data": {
      "text/html": [
       "\n",
       "            <style>\n",
       "                .geemap-dark {\n",
       "                    --jp-widgets-color: white;\n",
       "                    --jp-widgets-label-color: white;\n",
       "                    --jp-ui-font-color1: white;\n",
       "                    --jp-layout-color2: #454545;\n",
       "                    background-color: #383838;\n",
       "                }\n",
       "\n",
       "                .geemap-dark .jupyter-button {\n",
       "                    --jp-layout-color3: #383838;\n",
       "                }\n",
       "\n",
       "                .geemap-colab {\n",
       "                    background-color: var(--colab-primary-surface-color, white);\n",
       "                }\n",
       "\n",
       "                .geemap-colab .jupyter-button {\n",
       "                    --jp-layout-color3: var(--colab-primary-surface-color, white);\n",
       "                }\n",
       "            </style>\n",
       "            "
      ],
      "text/plain": [
       "<IPython.core.display.HTML object>"
      ]
     },
     "metadata": {},
     "output_type": "display_data"
    }
   ],
   "source": [
    "import pandas as pd\n",
    "\n",
    "df = pd.read_csv('produksi_perikanan_budidaya_final.csv', header=None)\n",
    "df = df.drop(index=0)\n",
    "df.columns = df.iloc[0]\n",
    "df = df.drop(index=1)\n",
    "provinces = df.iloc[:, 0]\n",
    "df = df.iloc[:, 1:]\n",
    "\n",
    "fish_species = ['Gurame', 'Patin', 'Lele', 'Nila', 'Ikan Mas', 'Kakap', 'Bandeng', 'Rumput Laut', 'Kerapu', 'Udang', 'Ikan lainnya']\n",
    "\n",
    "columns_2020 = []\n",
    "columns_2023 = []\n",
    "for species in fish_species:\n",
    "    columns_2023.append(f\"{species} (2023)\")\n",
    "new_columns = []\n",
    "for i in range(len(fish_species)):\n",
    "    new_columns.append(columns_2023[i])\n",
    "\n",
    "assert len(new_columns) == len(df.columns)\n",
    "\n",
    "df.columns = new_columns\n",
    "\n",
    "df.insert(0, 'Provinsi', provinces)\n",
    "\n",
    "df.to_csv('produksi_perikanan_budidaya_final.csv', index=False)"
   ]
  },
  {
   "cell_type": "code",
   "execution_count": 25,
   "metadata": {},
   "outputs": [
    {
     "data": {
      "text/html": [
       "\n",
       "            <style>\n",
       "                .geemap-dark {\n",
       "                    --jp-widgets-color: white;\n",
       "                    --jp-widgets-label-color: white;\n",
       "                    --jp-ui-font-color1: white;\n",
       "                    --jp-layout-color2: #454545;\n",
       "                    background-color: #383838;\n",
       "                }\n",
       "\n",
       "                .geemap-dark .jupyter-button {\n",
       "                    --jp-layout-color3: #383838;\n",
       "                }\n",
       "\n",
       "                .geemap-colab {\n",
       "                    background-color: var(--colab-primary-surface-color, white);\n",
       "                }\n",
       "\n",
       "                .geemap-colab .jupyter-button {\n",
       "                    --jp-layout-color3: var(--colab-primary-surface-color, white);\n",
       "                }\n",
       "            </style>\n",
       "            "
      ],
      "text/plain": [
       "<IPython.core.display.HTML object>"
      ]
     },
     "metadata": {},
     "output_type": "display_data"
    },
    {
     "name": "stdout",
     "output_type": "stream",
     "text": [
      "CSV has been converted to Celsius and saved as suhu_perbandingan_celsius.csv\n"
     ]
    }
   ],
   "source": [
    "import pandas as pd\n",
    "\n",
    "df = pd.read_csv(\"suhu_perbandingan.csv\")\n",
    "\n",
    "suhu_columns = ['Suhu 2023', 'Suhu rata-rata']\n",
    "df[suhu_columns] = df[suhu_columns] - 273.15\n",
    "df[suhu_columns] = df[suhu_columns].round(2)\n",
    "df.to_csv(\"suhu_perbandingan_celsius.csv\", index=False, encoding='utf-8')\n",
    "\n",
    "print(\"CSV has been converted to Celsius and saved as suhu_perbandingan_celsius.csv\")\n"
   ]
  },
  {
   "cell_type": "code",
   "execution_count": 27,
   "metadata": {},
   "outputs": [
    {
     "data": {
      "text/html": [
       "\n",
       "            <style>\n",
       "                .geemap-dark {\n",
       "                    --jp-widgets-color: white;\n",
       "                    --jp-widgets-label-color: white;\n",
       "                    --jp-ui-font-color1: white;\n",
       "                    --jp-layout-color2: #454545;\n",
       "                    background-color: #383838;\n",
       "                }\n",
       "\n",
       "                .geemap-dark .jupyter-button {\n",
       "                    --jp-layout-color3: #383838;\n",
       "                }\n",
       "\n",
       "                .geemap-colab {\n",
       "                    background-color: var(--colab-primary-surface-color, white);\n",
       "                }\n",
       "\n",
       "                .geemap-colab .jupyter-button {\n",
       "                    --jp-layout-color3: var(--colab-primary-surface-color, white);\n",
       "                }\n",
       "            </style>\n",
       "            "
      ],
      "text/plain": [
       "<IPython.core.display.HTML object>"
      ]
     },
     "metadata": {},
     "output_type": "display_data"
    }
   ],
   "source": [
    "import pandas as pd\n",
    "\n",
    "df = pd.read_csv(\"produksi_perikanan_budidaya_final.csv\", na_values=[\"-\"])\n",
    "df.to_csv(\"produksi_ikan_bersih.csv\", index=False)"
   ]
  }
 ],
 "metadata": {
  "kernelspec": {
   "display_name": "Python 3",
   "language": "python",
   "name": "python3"
  },
  "language_info": {
   "codemirror_mode": {
    "name": "ipython",
    "version": 3
   },
   "file_extension": ".py",
   "mimetype": "text/x-python",
   "name": "python",
   "nbconvert_exporter": "python",
   "pygments_lexer": "ipython3",
   "version": "3.10.6"
  }
 },
 "nbformat": 4,
 "nbformat_minor": 2
}
